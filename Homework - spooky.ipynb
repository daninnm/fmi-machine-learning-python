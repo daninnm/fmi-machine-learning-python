{
 "cells": [
  {
   "cell_type": "raw",
   "metadata": {},
   "source": [
    "Първо ще събмитна решението от лекцията за да видя какъв резултат получава."
   ]
  },
  {
   "cell_type": "code",
   "execution_count": 1,
   "metadata": {
    "collapsed": true
   },
   "outputs": [],
   "source": [
    "import pandas as pd\n",
    "import matplotlib.pyplot as plt\n",
    "import seaborn as sns\n",
    "import numpy as np\n",
    "import itertools\n",
    "\n",
    "from sklearn.pipeline import Pipeline\n",
    "from sklearn.svm import LinearSVC\n",
    "from sklearn.feature_extraction.text import CountVectorizer\n",
    "from sklearn.ensemble import RandomForestClassifier\n",
    "from sklearn.linear_model import LogisticRegression\n",
    "from sklearn.linear_model import SGDClassifier\n",
    "from sklearn.naive_bayes import MultinomialNB\n",
    "from sklearn.feature_extraction.text import CountVectorizer, TfidfVectorizer, HashingVectorizer\n",
    "from sklearn.model_selection import cross_val_score\n",
    "from sklearn.model_selection import cross_val_predict\n",
    "from sklearn.model_selection import RandomizedSearchCV\n",
    "from sklearn.model_selection import GridSearchCV\n",
    "from sklearn.metrics import confusion_matrix, accuracy_score, log_loss\n",
    "\n",
    "%matplotlib inline\n",
    "\n",
    "train = pd.read_csv(\"D:\\\\FMI2\\\\ML\\\\spooky-author-identification\\\\train.zip\", index_col=['id'])\n",
    "test = pd.read_csv(\"D:\\\\FMI2\\\\ML\\\\spooky-author-identification\\\\test.zip\", index_col=['id'])\n",
    "sample_submission = pd.read_csv(\"D:\\\\FMI2\\\\ML\\\\spooky-author-identification\\\\sample_submission.zip\", index_col=['id'])\n",
    "\n",
    "train.author = train.author.replace(['EAP', 'HPL', 'MWS'], ['Едгар', 'Хауърд', 'Мери'])"
   ]
  },
  {
   "cell_type": "code",
   "execution_count": 2,
   "metadata": {
    "collapsed": false
   },
   "outputs": [
    {
     "name": "stdout",
     "output_type": "stream",
     "text": [
      "[-0.42530307 -0.418245   -0.42500535]\n"
     ]
    }
   ],
   "source": [
    "pipeline = Pipeline([\n",
    "    ('features', TfidfVectorizer(ngram_range=(1, 2), min_df=2,\n",
    "                                 max_df=0.8, lowercase=False)),\n",
    "    ('clf', MultinomialNB(alpha=0.01))\n",
    "])\n",
    "\n",
    "print(cross_val_score(pipeline, train.text, train.author, cv=3, n_jobs=3, scoring='neg_log_loss'))"
   ]
  },
  {
   "cell_type": "code",
   "execution_count": 3,
   "metadata": {
    "collapsed": false
   },
   "outputs": [],
   "source": [
    "pipeline = pipeline.fit(train.text, train.author)\n",
    "test_predictions = pipeline.predict_proba(test.text)\n",
    "submit_file = pd.DataFrame(test_predictions, columns=['EAP', 'MWS', 'HPL'], index=test.index)\n",
    "submit_file.to_csv(\"D:\\\\FMI2\\\\ML\\\\spooky-author-identification\\\\submit_Tfidf_MNB_text.csv\")"
   ]
  },
  {
   "cell_type": "raw",
   "metadata": {},
   "source": [
    "Взима 250-то място със score 0.39041"
   ]
  },
  {
   "cell_type": "raw",
   "metadata": {},
   "source": [
    "Разглеждам в интернет какво означават различните параметри на TfidfVectorizer. Не разбирам защо е дадена минимална стойност min_df, тъй като именно най-редките думи дават най-много информация.\n",
    "Махам параметъра (така той приема default стойността 1) и пробвам пак."
   ]
  },
  {
   "cell_type": "code",
   "execution_count": 4,
   "metadata": {
    "collapsed": false
   },
   "outputs": [
    {
     "name": "stdout",
     "output_type": "stream",
     "text": [
      "[-0.3988486  -0.39707575 -0.40529345]\n"
     ]
    }
   ],
   "source": [
    "pipeline = Pipeline([\n",
    "    ('features', TfidfVectorizer(ngram_range=(1, 2),\n",
    "                                 max_df=0.8, lowercase=False)),\n",
    "    ('clf', MultinomialNB(alpha=0.01))\n",
    "])\n",
    "\n",
    "print(cross_val_score(pipeline, train.text, train.author, cv=3, n_jobs=3, scoring='neg_log_loss'))"
   ]
  },
  {
   "cell_type": "raw",
   "metadata": {},
   "source": [
    "Получава по-добри резултати. Събмитвам го в kaggle. Там също се справя по-добре (71 места нагоре)"
   ]
  },
  {
   "cell_type": "code",
   "execution_count": 5,
   "metadata": {
    "collapsed": true
   },
   "outputs": [],
   "source": [
    "pipeline = pipeline.fit(train.text, train.author)\n",
    "test_predictions = pipeline.predict_proba(test.text)\n",
    "submit_file = pd.DataFrame(test_predictions, columns=['EAP', 'MWS', 'HPL'], index=test.index)\n",
    "submit_file.to_csv(\"D:\\\\FMI2\\\\ML\\\\spooky-author-identification\\\\submit_Tfidf_MNB_text.csv\")"
   ]
  },
  {
   "cell_type": "raw",
   "metadata": {},
   "source": [
    "Порових се в интернет за това какви Classifier-и е удачно да използвам за текст. И реших да пробвам със Support Vector Machines. При dafault стойността на loss хиперпараметъра ('hinge') не можем да получим вероятности, за отговорите, но ако го променим на log например - няма проблем"
   ]
  },
  {
   "cell_type": "code",
   "execution_count": 6,
   "metadata": {
    "collapsed": false
   },
   "outputs": [
    {
     "name": "stdout",
     "output_type": "stream",
     "text": [
      "[-0.70509999 -0.70667797 -0.69946836]\n"
     ]
    }
   ],
   "source": [
    "pipeline = Pipeline([\n",
    "    ('features', TfidfVectorizer(ngram_range=(1, 2), lowercase=False)),\n",
    "    ('clf', SGDClassifier(loss='log', random_state=0))])\n",
    "\n",
    "print(cross_val_score(pipeline, train.text, train.author, cv=3, n_jobs=3, scoring='neg_log_loss'))"
   ]
  },
  {
   "cell_type": "raw",
   "metadata": {},
   "source": [
    "При default стойностите на останалите параметри модела се справя доста зле, затова ще пробваме да ги променим за да получим нещо по-добро. Първо да видим какви са default стойностите."
   ]
  },
  {
   "cell_type": "code",
   "execution_count": 7,
   "metadata": {
    "collapsed": false
   },
   "outputs": [
    {
     "data": {
      "text/plain": [
       "SGDClassifier(alpha=0.0001, average=False, class_weight=None, epsilon=0.1,\n",
       "       eta0=0.0, fit_intercept=True, l1_ratio=0.15,\n",
       "       learning_rate='optimal', loss='log', n_iter=5, n_jobs=1,\n",
       "       penalty='l2', power_t=0.5, random_state=0, shuffle=True, verbose=0,\n",
       "       warm_start=False)"
      ]
     },
     "execution_count": 7,
     "metadata": {},
     "output_type": "execute_result"
    }
   ],
   "source": [
    "pipeline.steps[1][1]"
   ]
  },
  {
   "cell_type": "raw",
   "metadata": {},
   "source": [
    "Пробвам с loss='modified_huber', като намалям alpha резултата се увеличава докато не стигна 1е-5, когато започва бързо да расте, като увелича броя итерации също помага малко."
   ]
  },
  {
   "cell_type": "code",
   "execution_count": 8,
   "metadata": {
    "collapsed": false
   },
   "outputs": [
    {
     "name": "stdout",
     "output_type": "stream",
     "text": [
      "[-0.63184389 -0.63081907 -0.5722206 ]\n"
     ]
    }
   ],
   "source": [
    "pipeline = Pipeline([\n",
    "    ('features', TfidfVectorizer(ngram_range=(1, 2), lowercase=False)),\n",
    "    ('clf', SGDClassifier(loss='modified_huber', random_state=0, alpha=1e-4, n_iter=100))])\n",
    "\n",
    "print(cross_val_score(pipeline, train.text, train.author, cv=3, n_jobs=3, scoring='neg_log_loss'))"
   ]
  },
  {
   "cell_type": "raw",
   "metadata": {},
   "source": [
    "Да се върнем на loss='log'"
   ]
  },
  {
   "cell_type": "code",
   "execution_count": 9,
   "metadata": {
    "collapsed": false
   },
   "outputs": [
    {
     "name": "stdout",
     "output_type": "stream",
     "text": [
      "[-1.09820115 -1.09797693 -1.09762227]\n"
     ]
    }
   ],
   "source": [
    "pipeline = Pipeline([\n",
    "    ('features', TfidfVectorizer(ngram_range=(1, 2), lowercase=False)),\n",
    "    ('clf', SGDClassifier(loss='log', random_state=0, alpha=1, n_iter=100))])\n",
    "\n",
    "print(cross_val_score(pipeline, train.text, train.author, cv=3, n_jobs=3, scoring='neg_log_loss'))"
   ]
  },
  {
   "cell_type": "raw",
   "metadata": {},
   "source": [
    "С alpha 1 се увеличава доста. За да си улесня работата ще си направя функция"
   ]
  },
  {
   "cell_type": "code",
   "execution_count": 10,
   "metadata": {
    "collapsed": true
   },
   "outputs": [],
   "source": [
    "def test_model(alpha=1e-3, n_iter=10):\n",
    "    pipeline = Pipeline([\n",
    "        ('features', TfidfVectorizer(ngram_range=(1, 2), lowercase=False)),\n",
    "        ('clf', SGDClassifier(loss='log', random_state=0, alpha=alpha, n_iter=n_iter))])\n",
    "\n",
    "    print(alpha, n_iter, cross_val_score(pipeline, train.text, train.author, cv=3, n_jobs=3, scoring='neg_log_loss'))"
   ]
  },
  {
   "cell_type": "code",
   "execution_count": 11,
   "metadata": {
    "collapsed": false
   },
   "outputs": [
    {
     "name": "stdout",
     "output_type": "stream",
     "text": [
      "0.01 10 [-1.07359733 -1.07307711 -1.07308271]\n",
      "0.001 10 [-0.97264801 -0.9729021  -0.97046414]\n",
      "0.0001 10 [-0.7063961  -0.70872145 -0.70116382]\n",
      "1e-05 10 [-0.49285044 -0.49891398 -0.48704205]\n",
      "1e-06 10 [-0.45575614 -0.46793044 -0.45442104]\n",
      "1e-07 10 [-0.98692794 -1.03459244 -1.02393951]\n",
      "1e-08 10 [-2.57569938 -2.63831548 -2.63765597]\n",
      "1e-09 10 [-3.88748023 -3.96421051 -3.76013401]\n"
     ]
    }
   ],
   "source": [
    "alphas = [1e-2, 1e-3, 1e-4, 1e-5, 1e-6, 1e-7, 1e-8, 1e-9]\n",
    "for alp in alphas:\n",
    "    test_model(alpha=alp, n_iter=10)"
   ]
  },
  {
   "cell_type": "raw",
   "metadata": {},
   "source": [
    "Виждаме че при alpha около 1е-6 се получава най-добре. Сега да опитаме повече итерации"
   ]
  },
  {
   "cell_type": "code",
   "execution_count": 12,
   "metadata": {
    "collapsed": false
   },
   "outputs": [
    {
     "name": "stdout",
     "output_type": "stream",
     "text": [
      "1e-05 100 [-0.49507354 -0.50049874 -0.48907863]\n",
      "1e-06 100 [-0.44800006 -0.45960342 -0.4448511 ]\n",
      "1e-07 100 [-0.50930075 -0.53008824 -0.50907018]\n"
     ]
    }
   ],
   "source": [
    "alphas = [1e-5, 1e-6, 1e-7]\n",
    "for alp in alphas:\n",
    "    test_model(alpha=alp, n_iter=100)"
   ]
  },
  {
   "cell_type": "raw",
   "metadata": {},
   "source": [
    "Малко по-добре. Да пробваме с по-разнообразни стойности на n_iter"
   ]
  },
  {
   "cell_type": "code",
   "execution_count": 13,
   "metadata": {
    "collapsed": false
   },
   "outputs": [
    {
     "name": "stdout",
     "output_type": "stream",
     "text": [
      "1e-06 30 [-0.44770492 -0.45950639 -0.44517457]\n",
      "1e-06 100 [-0.44800006 -0.45960342 -0.4448511 ]\n",
      "1e-06 300 [-0.44800974 -0.4596065  -0.44489795]\n"
     ]
    }
   ],
   "source": [
    "n_iters = [30, 100, 300]\n",
    "for ite in n_iters:\n",
    "    test_model(alpha=1e-6, n_iter=ite)"
   ]
  },
  {
   "cell_type": "raw",
   "metadata": {},
   "source": [
    "За жалост няма особено подобрение"
   ]
  },
  {
   "cell_type": "code",
   "execution_count": 14,
   "metadata": {
    "collapsed": false
   },
   "outputs": [
    {
     "name": "stdout",
     "output_type": "stream",
     "text": [
      "0.01 100 [-1.07301127 -1.07276739 -1.07259579]\n",
      "0.001 100 [-0.97276524 -0.97302624 -0.97058951]\n",
      "0.0001 100 [-0.7081094  -0.71018585 -0.70275404]\n",
      "1e-05 100 [-0.49507354 -0.50049874 -0.48907863]\n",
      "1e-06 100 [-0.44800006 -0.45960342 -0.4448511 ]\n",
      "1e-07 100 [-0.50930075 -0.53008824 -0.50907018]\n",
      "1e-08 100 [-1.4098478  -1.46572732 -1.45025675]\n",
      "1e-09 100 [-3.59478265 -3.70860653 -3.53668744]\n"
     ]
    }
   ],
   "source": [
    "alphas = [1e-2, 1e-3, 1e-4, 1e-5, 1e-6, 1e-7, 1e-8, 1e-9]\n",
    "for alp in alphas:\n",
    "    test_model(alpha=alp, n_iter=100)"
   ]
  },
  {
   "cell_type": "raw",
   "metadata": {},
   "source": [
    "Изглежда SVM се справя по-зле затова ще се върна към MultinomialNB.\n",
    "Ще пробвам да сменя различните параметри"
   ]
  },
  {
   "cell_type": "code",
   "execution_count": 15,
   "metadata": {
    "collapsed": false
   },
   "outputs": [
    {
     "name": "stdout",
     "output_type": "stream",
     "text": [
      "[-0.38631528 -0.38497049 -0.38864912]\n"
     ]
    }
   ],
   "source": [
    "pipeline = Pipeline([\n",
    "    ('features', TfidfVectorizer(ngram_range=(1, 2), lowercase=False, use_idf=False)),\n",
    "    ('clf', MultinomialNB(alpha=0.01))])\n",
    "\n",
    "print(cross_val_score(pipeline, train.text, train.author, cv=3, n_jobs=3, scoring='neg_log_loss'))"
   ]
  },
  {
   "cell_type": "code",
   "execution_count": 16,
   "metadata": {
    "collapsed": false
   },
   "outputs": [
    {
     "name": "stdout",
     "output_type": "stream",
     "text": [
      "[-0.40220847 -0.40079718 -0.40916863]\n"
     ]
    }
   ],
   "source": [
    "pipeline = Pipeline([\n",
    "    ('features', TfidfVectorizer(ngram_range=(1, 2), lowercase=False, smooth_idf=False)),\n",
    "    ('clf', MultinomialNB(alpha=0.01))])\n",
    "\n",
    "print(cross_val_score(pipeline, train.text, train.author, cv=3, n_jobs=3, scoring='neg_log_loss'))"
   ]
  },
  {
   "cell_type": "code",
   "execution_count": 17,
   "metadata": {
    "collapsed": false
   },
   "outputs": [
    {
     "name": "stdout",
     "output_type": "stream",
     "text": [
      "[-0.39913227 -0.39735237 -0.40561134]\n"
     ]
    }
   ],
   "source": [
    "pipeline = Pipeline([\n",
    "    ('features', TfidfVectorizer(ngram_range=(1, 2), lowercase=False, sublinear_tf=True)),\n",
    "    ('clf', MultinomialNB(alpha=0.01))])\n",
    "\n",
    "print(cross_val_score(pipeline, train.text, train.author, cv=3, n_jobs=3, scoring='neg_log_loss'))"
   ]
  },
  {
   "cell_type": "code",
   "execution_count": 18,
   "metadata": {
    "collapsed": false
   },
   "outputs": [
    {
     "name": "stdout",
     "output_type": "stream",
     "text": [
      "[-0.38631528 -0.38497049 -0.38864912]\n"
     ]
    }
   ],
   "source": [
    "pipeline = Pipeline([\n",
    "    ('features', TfidfVectorizer(ngram_range=(1, 2), lowercase=False, use_idf=False, analyzer='word')),\n",
    "    ('clf', MultinomialNB(alpha=0.01))])\n",
    "\n",
    "print(cross_val_score(pipeline, train.text, train.author, cv=3, n_jobs=3, scoring='neg_log_loss'))"
   ]
  },
  {
   "cell_type": "code",
   "execution_count": 32,
   "metadata": {
    "collapsed": false
   },
   "outputs": [
    {
     "name": "stdout",
     "output_type": "stream",
     "text": [
      "[-0.52106595 -0.51884756 -0.51566132]\n"
     ]
    }
   ],
   "source": [
    "pipeline = Pipeline([\n",
    "    ('features', TfidfVectorizer(ngram_range=(1, 5), lowercase=False, use_idf=False, analyzer='char')),\n",
    "    ('clf', MultinomialNB(alpha=0.01))])\n",
    "\n",
    "print(cross_val_score(pipeline, train.text, train.author, cv=3, n_jobs=3, scoring='neg_log_loss'))\n",
    "# ngram_range(1, 5) [-0.52106595 -0.51884756 -0.51566132]\n",
    "# ngram_range(1, 6) [-0.43406913 -0.43222579 -0.42966077]\n",
    "# ngram_range(1, 7) [-0.39664403 -0.39699232 -0.39457353]\n",
    "# ngram_range(1, 8) [-0.38826457 -0.39055307 -0.38741299]\n",
    "# ngram_range(1, 9) [-0.39508701 -0.39896949 -0.39498316]\n",
    "# ngram_range(1, 10)[-0.41029785 -0.41504183 -0.41069979]\n",
    "# При промяна на lowercase или use_idf параметрите резултата се влошава"
   ]
  },
  {
   "cell_type": "code",
   "execution_count": 34,
   "metadata": {
    "collapsed": false
   },
   "outputs": [
    {
     "name": "stdout",
     "output_type": "stream",
     "text": [
      "[-0.38952164 -0.38793957 -0.38977422]\n"
     ]
    }
   ],
   "source": [
    "pipeline = Pipeline([\n",
    "    ('features', TfidfVectorizer(ngram_range=(1, 2), lowercase=False, use_idf=False)),\n",
    "    ('clf', MultinomialNB(alpha=0.01))])\n",
    "\n",
    "print(cross_val_score(pipeline, train.text, train.author, cv=3, n_jobs=3, scoring='neg_log_loss'))"
   ]
  },
  {
   "cell_type": "raw",
   "metadata": {},
   "source": [
    "Остана да намерим оптималния alpha параметър за MultinomialNB"
   ]
  },
  {
   "cell_type": "code",
   "execution_count": 35,
   "metadata": {
    "collapsed": false
   },
   "outputs": [
    {
     "name": "stdout",
     "output_type": "stream",
     "text": [
      "0.001 [-0.40837162 -0.40799027 -0.41792039]\n",
      "0.003 [-0.38950424 -0.38858977 -0.3955299 ]\n",
      "0.01 [-0.38631528 -0.38497049 -0.38864912]\n",
      "0.03 [-0.40907822 -0.40765167 -0.40820523]\n",
      "0.1 [-0.479973   -0.47911609 -0.47556484]\n"
     ]
    }
   ],
   "source": [
    "for alp in [0.001, 0.003, 0.01, 0.03, 0.1]:\n",
    "    pipeline = Pipeline([\n",
    "        ('features', TfidfVectorizer(ngram_range=(1, 2), lowercase=False, use_idf=False)),\n",
    "        ('clf', MultinomialNB(alpha=alp))])\n",
    "\n",
    "    print(alp, cross_val_score(pipeline, train.text, train.author, cv=3, n_jobs=3, scoring='neg_log_loss'))"
   ]
  },
  {
   "cell_type": "raw",
   "metadata": {},
   "source": [
    "Изглежда е доста близо до 0.01. Все пак да пробваме пак"
   ]
  },
  {
   "cell_type": "code",
   "execution_count": 36,
   "metadata": {
    "collapsed": false
   },
   "outputs": [
    {
     "name": "stdout",
     "output_type": "stream",
     "text": [
      "0.005 [-0.38539748 -0.38427371 -0.38983334]\n",
      "0.007 [-0.38479593 -0.38355383 -0.38820317]\n",
      "0.008 [-0.38508742 -0.3838038  -0.38809073]\n",
      "0.009 [-0.38561592 -0.38429864 -0.388265  ]\n",
      "0.01 [-0.38631528 -0.38497049 -0.38864912]\n",
      "0.011 [-0.38714071 -0.38577331 -0.3891907 ]\n",
      "0.012 [-0.38806077 -0.38667476 -0.3898527 ]\n",
      "0.014 [-0.39009993 -0.38868616 -0.39143717]\n",
      "0.017 [-0.39346009 -0.39202187 -0.39422893]\n",
      "0.02 [-0.3970026  -0.39555409 -0.39729895]\n"
     ]
    }
   ],
   "source": [
    "for alp in [0.005, 0.007, 0.008, 0.009, 0.010, 0.011, 0.012, 0.014, 0.017, 0.020]:\n",
    "    pipeline = Pipeline([\n",
    "        ('features', TfidfVectorizer(ngram_range=(1, 2), lowercase=False, use_idf=False)),\n",
    "        ('clf', MultinomialNB(alpha=alp))])\n",
    "\n",
    "    print(alp, cross_val_score(pipeline, train.text, train.author, cv=3, n_jobs=3, scoring='neg_log_loss'))"
   ]
  },
  {
   "cell_type": "code",
   "execution_count": 38,
   "metadata": {
    "collapsed": false
   },
   "outputs": [
    {
     "name": "stdout",
     "output_type": "stream",
     "text": [
      "0.005 [-0.38539748 -0.38427371 -0.38983334]\n",
      "0.0055 [-0.3850429  -0.3838838  -0.38918585]\n",
      "0.006 [-0.38484356 -0.38365341 -0.38872016]\n",
      "0.0065 [-0.38476893 -0.3835513  -0.38840141]\n",
      "0.007 [-0.38479593 -0.38355383 -0.38820317]\n",
      "0.0075 [-0.38490675 -0.38364277 -0.38810498]\n",
      "0.008 [-0.38508742 -0.3838038  -0.38809073]\n"
     ]
    }
   ],
   "source": [
    "for alp in [0.0050, 0.0055, 0.0060, 0.0065, 0.0070, 0.0075, 0.0080]:\n",
    "    pipeline = Pipeline([\n",
    "        ('features', TfidfVectorizer(ngram_range=(1, 2), lowercase=False, use_idf=False)),\n",
    "        ('clf', MultinomialNB(alpha=alp))])\n",
    "\n",
    "    print(alp, cross_val_score(pipeline, train.text, train.author, cv=3, n_jobs=3, scoring='neg_log_loss'))"
   ]
  },
  {
   "cell_type": "raw",
   "metadata": {},
   "source": [
    "Ще вземем alpha=0.0065 и ще пробваме в kaggle"
   ]
  },
  {
   "cell_type": "code",
   "execution_count": 39,
   "metadata": {
    "collapsed": true
   },
   "outputs": [],
   "source": [
    "pipeline = Pipeline([\n",
    "    ('features', TfidfVectorizer(ngram_range=(1, 2), lowercase=False, use_idf=False)),\n",
    "    ('clf', MultinomialNB(alpha=0.0065))])\n",
    "pipeline = pipeline.fit(train.text, train.author)\n",
    "test_predictions = pipeline.predict_proba(test.text)\n",
    "submit_file = pd.DataFrame(test_predictions, columns=['EAP', 'MWS', 'HPL'], index=test.index)\n",
    "submit_file.to_csv(\"D:\\\\FMI2\\\\ML\\\\spooky-author-identification\\\\submit_Tfidf_MNB_text.csv\")"
   ]
  },
  {
   "cell_type": "raw",
   "metadata": {},
   "source": [
    "Финален резултат 0.35139 в kaggle - място 147"
   ]
  }
 ],
 "metadata": {
  "kernelspec": {
   "display_name": "Python 3",
   "language": "python",
   "name": "python3"
  },
  "language_info": {
   "codemirror_mode": {
    "name": "ipython",
    "version": 3
   },
   "file_extension": ".py",
   "mimetype": "text/x-python",
   "name": "python",
   "nbconvert_exporter": "python",
   "pygments_lexer": "ipython3",
   "version": "3.6.0"
  }
 },
 "nbformat": 4,
 "nbformat_minor": 2
}
